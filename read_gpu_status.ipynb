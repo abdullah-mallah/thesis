{
 "cells": [
  {
   "cell_type": "code",
   "execution_count": 1,
   "id": "c4da08ea",
   "metadata": {},
   "outputs": [
    {
     "name": "stdout",
     "output_type": "stream",
     "text": [
      "                         Average Value\n",
      "GPU Metric                            \n",
      "GPU Clock [MHz]            1837.000000\n",
      "Memory Clock [MHz]         1825.200000\n",
      "GPU Temperature [°C]         43.150000\n",
      "Hot Spot [°C]                53.203571\n",
      "GPU Load [%]                  3.678571\n",
      "Board Power Draw [W]         38.889286\n",
      "GPU Chip Power Draw [W]      14.303571\n",
      "PWR_SRC Power Draw [W]       24.575000\n",
      "PWR_SRC Voltage [V]          11.792857\n",
      "PCIe Slot Power [W]          14.642857\n",
      "PCIe Slot Voltage [V]        11.692857\n",
      "8-Pin #1 Power [W]           24.967857\n",
      "8-Pin #1 Voltage [V]         12.100000\n",
      "GPU Voltage [V]               1.012000\n"
     ]
    }
   ],
   "source": [
    "import pandas as pd\n",
    "\n",
    "def read_and_average_gpu_metrics(csv_file_path):\n",
    "    # Load the CSV file with proper encoding to handle special characters like \"°\"\n",
    "    df = pd.read_csv(csv_file_path, skipinitialspace=True, encoding='ISO-8859-1')\n",
    "\n",
    "    # Use the first column as the datetime (if there's no 'Date' column explicitly)\n",
    "    df['Datetime'] = pd.to_datetime(df.iloc[:, 0], errors='coerce')\n",
    "    df = df.dropna(subset=['Datetime'])\n",
    "\n",
    "    # Define your desired time range for analysis\n",
    "    start_time = pd.to_datetime(\"2025-04-22 14:29:19\")\n",
    "    stop_time = pd.to_datetime(\"2025-04-22 14:29:46\")\n",
    "    df = df[(df['Datetime'] >= start_time) & (df['Datetime'] <= stop_time)]\n",
    "\n",
    "    # List of GPU metrics to analyze\n",
    "    gpu_columns = [\n",
    "        'GPU Clock [MHz]',\n",
    "        'Memory Clock [MHz]',\n",
    "        'GPU Temperature [°C]',\n",
    "        'Hot Spot [°C]',\n",
    "        'GPU Load [%]',\n",
    "        'Board Power Draw [W]',\n",
    "        'GPU Chip Power Draw [W]',\n",
    "        'PWR_SRC Power Draw [W]',\n",
    "        'PWR_SRC Voltage [V]',\n",
    "        'PCIe Slot Power [W]',\n",
    "        'PCIe Slot Voltage [V]',\n",
    "        '8-Pin #1 Power [W]',\n",
    "        '8-Pin #1 Voltage [V]',\n",
    "        'GPU Voltage [V]'\n",
    "    ]\n",
    "\n",
    "    # Clean up column names in the DataFrame\n",
    "    df.columns = df.columns.str.strip()\n",
    "\n",
    "    # Check which columns are actually present\n",
    "    available_columns = [col for col in gpu_columns if col in df.columns]\n",
    "\n",
    "    # Convert all valid columns to numeric values\n",
    "    for col in available_columns:\n",
    "        df[col] = pd.to_numeric(df[col], errors='coerce')\n",
    "\n",
    "    # Calculate average values of the available GPU metrics\n",
    "    avg_values = df[available_columns].mean().to_frame(name='Average Value')\n",
    "    avg_values.index.name = 'GPU Metric'\n",
    "\n",
    "    return avg_values\n",
    "\n",
    "\n",
    "# Example usage\n",
    "avg_gpu_df = read_and_average_gpu_metrics(\"C:/Users/ammar/Desktop/gpu_run_10000_1.csv\")\n",
    "print(avg_gpu_df)\n"
   ]
  }
 ],
 "metadata": {
  "kernelspec": {
   "display_name": "cnn-env",
   "language": "python",
   "name": "python3"
  },
  "language_info": {
   "codemirror_mode": {
    "name": "ipython",
    "version": 3
   },
   "file_extension": ".py",
   "mimetype": "text/x-python",
   "name": "python",
   "nbconvert_exporter": "python",
   "pygments_lexer": "ipython3",
   "version": "3.11.11"
  }
 },
 "nbformat": 4,
 "nbformat_minor": 5
}

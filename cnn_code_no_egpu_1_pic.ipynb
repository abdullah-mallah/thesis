{
 "cells": [
  {
   "cell_type": "code",
   "execution_count": 1,
   "metadata": {},
   "outputs": [],
   "source": [
    "import torch\n",
    "import torch.nn as nn\n",
    "import torch.nn.functional as F\n",
    "from torch.utils.data import DataLoader\n",
    "from torchvision import datasets, transforms\n",
    "import numpy as np\n",
    "import matplotlib.pyplot as plt\n",
    "import time\n",
    "import psutil\n",
    "import datetime"
   ]
  },
  {
   "cell_type": "code",
   "execution_count": 2,
   "metadata": {},
   "outputs": [
    {
     "name": "stdout",
     "output_type": "stream",
     "text": [
      "Using device: cpu\n"
     ]
    }
   ],
   "source": [
    "# Ensure reproducibility\n",
    "torch.manual_seed(41)\n",
    "\n",
    "# Force the use of CPU\n",
    "device = torch.device(\"cpu\")\n",
    "print(f\"Using device: {device}\")"
   ]
  },
  {
   "cell_type": "code",
   "execution_count": 3,
   "metadata": {},
   "outputs": [],
   "source": [
    "# Transform to Tensor\n",
    "transform = transforms.ToTensor()\n",
    "\n",
    "# Load MNIST dataset\n",
    "train_data = datasets.MNIST(root='C:/Users/ammar/Desktop/thesis', train=True,\n",
    "                         \tdownload=True, transform=transform)\n",
    "test_data = datasets.MNIST(root='C:/Users/ammar/Desktop/thesis',\n",
    "                        \ttrain=False, download=True, transform=transform)"
   ]
  },
  {
   "cell_type": "code",
   "execution_count": 4,
   "metadata": {},
   "outputs": [],
   "source": [
    "# Reduce to 1 image for training and 1 image for testing\n",
    "train_data_small = torch.utils.data.Subset(train_data, [0])\n",
    "test_data_small = torch.utils.data.Subset(test_data, [0])\n",
    "\n",
    "# DataLoaders\n",
    "train_loader = DataLoader(train_data_small, batch_size=1, shuffle=False)\n",
    "test_loader = DataLoader(test_data_small, batch_size=1, shuffle=False)"
   ]
  },
  {
   "cell_type": "code",
   "execution_count": 5,
   "metadata": {},
   "outputs": [
    {
     "name": "stdout",
     "output_type": "stream",
     "text": [
      "First training sample:\n",
      "Label: 5\n"
     ]
    },
    {
     "data": {
      "image/png": "[encoded data removed]",
      "text/plain": [
       "<Figure size 640x480 with 1 Axes>"
      ]
     },
     "metadata": {},
     "output_type": "display_data"
    },
    {
     "name": "stdout",
     "output_type": "stream",
     "text": [
      "First test sample:\n",
      "Label: 7\n"
     ]
    },
    {
     "data": {
      "image/png": "[encoded data removed]",
      "text/plain": [
       "<Figure size 640x480 with 1 Axes>"
      ]
     },
     "metadata": {},
     "output_type": "display_data"
    }
   ],
   "source": [
    "# Display first training and test sample\n",
    "print(\"First training sample:\")\n",
    "image, label = train_data[0]\n",
    "print(f\"Label: {label}\")\n",
    "plt.imshow(image.squeeze(), cmap=\"gray\")\n",
    "plt.show()\n",
    "\n",
    "print(\"First test sample:\")\n",
    "image, label = test_data[0]\n",
    "print(f\"Label: {label}\")\n",
    "plt.imshow(image.squeeze(), cmap=\"gray\")\n",
    "plt.show()"
   ]
  },
  {
   "cell_type": "code",
   "execution_count": 6,
   "metadata": {},
   "outputs": [
    {
     "name": "stdout",
     "output_type": "stream",
     "text": [
      "Image Shape: torch.Size([1, 28, 28])\n",
      "Image Data Type: <class 'torch.Tensor'>\n",
      "Label Data Type: <class 'int'>\n",
      "Pixel Value Range: 0.0 to 1.0\n"
     ]
    }
   ],
   "source": [
    "# Print image details\n",
    "print(\"Image Shape:\", image.shape)\n",
    "print(\"Image Data Type:\", type(image))\n",
    "print(\"Label Data Type:\", type(label))\n",
    "image_numpy = image.numpy()\n",
    "print(\"Pixel Value Range:\", image_numpy.min(), \"to\", image_numpy.max())"
   ]
  },
  {
   "cell_type": "code",
   "execution_count": 7,
   "metadata": {},
   "outputs": [],
   "source": [
    "# Define CNN model\n",
    "class ConvolutionalNetwork(nn.Module):\n",
    "\tdef __init__(self):\n",
    "\t\tsuper().__init__()\n",
    "\t\tself.conv1 = nn.Conv2d(1, 6, 3, 1)\n",
    "\t\tself.conv2 = nn.Conv2d(6, 16, 3, 1)\n",
    "\t\tself.fc1 = nn.Linear(5*5*16, 120)\n",
    "\t\tself.fc2 = nn.Linear(120, 84)\n",
    "\t\tself.fc3 = nn.Linear(84, 10)\n",
    "    \n",
    "\tdef forward(self, x):\n",
    "\t\tx = F.relu(self.conv1(x))\n",
    "\t\tx = F.max_pool2d(x, 2, 2)\n",
    "\t\tx = F.relu(self.conv2(x))\n",
    "\t\tx = F.max_pool2d(x, 2, 2)\n",
    "\t\tx = x.view(-1, 16*5*5)\n",
    "\t\tx = F.relu(self.fc1(x))\n",
    "\t\tx = F.relu(self.fc2(x))\n",
    "\t\tx = self.fc3(x)\n",
    "\t\treturn F.log_softmax(x, dim=1)"
   ]
  },
  {
   "cell_type": "code",
   "execution_count": 8,
   "metadata": {},
   "outputs": [],
   "source": [
    "# Initialize model, loss function, and optimizer\n",
    "model = ConvolutionalNetwork().to(device) # To force it to run on cpu\n",
    "criterion = nn.CrossEntropyLoss()\n",
    "optimizer = torch.optim.Adam(model.parameters(), lr=0.001)"
   ]
  },
  {
   "cell_type": "code",
   "execution_count": 9,
   "metadata": {},
   "outputs": [],
   "source": [
    "# Training parameters\n",
    "epochs = 5\n",
    "train_losses = []\n",
    "test_losses = []\n",
    "train_correct = []\n",
    "test_correct = []"
   ]
  },
  {
   "cell_type": "code",
   "execution_count": 10,
   "metadata": {},
   "outputs": [
    {
     "name": "stdout",
     "output_type": "stream",
     "text": [
      "Training started at: 06:50:43\n",
      "Training ended at: 06:50:43\n",
      "Training Took: 0.00 minutes\n"
     ]
    }
   ],
   "source": [
    "start_time = time.time()\n",
    "\n",
    "print(\"Training started at:\", datetime.datetime.now().strftime(\"%H:%M:%S\"))\n",
    "\n",
    "# Training loop\n",
    "for i in range(epochs):\n",
    "\ttrn_corr = 0\n",
    "\ttst_corr = 0\n",
    "    \n",
    "\t# Training phase\n",
    "\tmodel.train()\n",
    "\tfor batch, (x_train, y_train) in enumerate(train_loader, 1):\n",
    "\t\tx_train, y_train = x_train.to(device), y_train.to(device)\n",
    "\t\ty_pred = model(x_train)\n",
    "\t\tloss = criterion(y_pred, y_train)\n",
    "\t\t\n",
    "\t\tpredicted = torch.max(y_pred.data, 1)[1]\n",
    "\t\ttrn_corr += (predicted == y_train).sum().item()\n",
    "\t\t\n",
    "\t\toptimizer.zero_grad()\n",
    "\t\tloss.backward()\n",
    "\t\toptimizer.step()\n",
    "\t\tif batch % 600 == 0:\n",
    "\t\t\tprint(f'Epoch: {i+1}, Batch: {batch}, Loss: {loss.item()}')\n",
    "    \n",
    "\ttrain_losses.append(loss.item())\n",
    "\ttrain_correct.append(trn_corr)\n",
    "    \n",
    "\t# Validation phase\n",
    "\tmodel.eval()\n",
    "\ttest_loss = 0\n",
    "\twith torch.no_grad():\n",
    "\t\tfor x_test, y_test in test_loader:\n",
    "\t\t\tx_test, y_test = x_test.to(device), y_test.to(device)\n",
    "\t\t\ty_val = model(x_test)\n",
    "\t\t\tloss = criterion(y_val, y_test)\n",
    "\t\t\ttest_loss += loss.item()\n",
    "\t\t\t\n",
    "\t\t\tpredicted = torch.max(y_val.data, 1)[1]\n",
    "\t\t\ttst_corr += (predicted == y_test).sum().item()\n",
    "    \n",
    "\ttest_losses.append(test_loss / len(test_loader))  # Average loss\n",
    "\ttest_correct.append(tst_corr)\n",
    "\n",
    "end_time = time.time()\n",
    "print(\"Training ended at:\", datetime.datetime.now().strftime(\"%H:%M:%S\")) # To know watt and utilization using Intel Power Gadget\n",
    "print(f'Training Took: {(end_time - start_time) / 60:.2f} minutes')"
   ]
  }
 ],
 "metadata": {
  "kernelspec": {
   "display_name": "cnn-env",
   "language": "python",
   "name": "python3"
  },
  "language_info": {
   "codemirror_mode": {
    "name": "ipython",
    "version": 3
   },
   "file_extension": ".py",
   "mimetype": "text/x-python",
   "name": "python",
   "nbconvert_exporter": "python",
   "pygments_lexer": "ipython3",
   "version": "3.11.11"
  }
 },
 "nbformat": 4,
 "nbformat_minor": 2
}

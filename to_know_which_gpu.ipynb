{
 "cells": [
  {
   "cell_type": "code",
   "execution_count": 1,
   "id": "6d2d3cb1",
   "metadata": {},
   "outputs": [
    {
     "name": "stdout",
     "output_type": "stream",
     "text": [
      "GPU 0: NVIDIA GeForce RTX 3060\n",
      "  PCI Bus ID: 00000000:01:00.0\n",
      "  Total Memory: 12288 MiB\n",
      "\n",
      "GPU 1: NVIDIA GeForce RTX 3060\n",
      "  PCI Bus ID: 00000000:06:00.0\n",
      "  Total Memory: 12288 MiB\n",
      "\n"
     ]
    }
   ],
   "source": [
    "import subprocess\n",
    "\n",
    "def list_nvidia_devices():\n",
    "    try:\n",
    "        output = subprocess.check_output(['nvidia-smi', '--query-gpu=index,name,pci.bus_id,memory.total', '--format=csv,noheader'])\n",
    "        lines = output.decode('utf-8').strip().split('\\n')\n",
    "        \n",
    "        for line in lines:\n",
    "            index, name, pci_id, mem = [item.strip() for item in line.split(',')]\n",
    "            print(f\"GPU {index}: {name}\")\n",
    "            print(f\"  PCI Bus ID: {pci_id}\")\n",
    "            print(f\"  Total Memory: {mem}\")\n",
    "            print()\n",
    "    except Exception as e:\n",
    "        print(\"Error running nvidia-smi:\", e)\n",
    "\n",
    "list_nvidia_devices()\n"
   ]
  }
 ],
 "metadata": {
  "kernelspec": {
   "display_name": "cnn-env",
   "language": "python",
   "name": "python3"
  },
  "language_info": {
   "codemirror_mode": {
    "name": "ipython",
    "version": 3
   },
   "file_extension": ".py",
   "mimetype": "text/x-python",
   "name": "python",
   "nbconvert_exporter": "python",
   "pygments_lexer": "ipython3",
   "version": "3.11.11"
  }
 },
 "nbformat": 4,
 "nbformat_minor": 5
}

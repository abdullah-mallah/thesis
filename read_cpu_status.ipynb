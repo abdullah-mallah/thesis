{
 "cells": [
  {
   "cell_type": "code",
   "execution_count": 7,
   "id": "a17a0d9b",
   "metadata": {},
   "outputs": [
    {
     "name": "stdout",
     "output_type": "stream",
     "text": [
      "                       Average Value\n",
      "Metric                              \n",
      "Core Usage (avg) [%]       50.171429\n",
      "Total CPU Usage [%]        50.171429\n",
      "CPU Package Power [W]      38.424667\n",
      "Core Powers (avg) [W]       3.999667\n",
      "CPU (Tctl/Tdie) [°C]       53.771429\n"
     ]
    }
   ],
   "source": [
    "import pandas as pd\n",
    "\n",
    "def read_and_average_metrics(csv_file_path):\n",
    "    # Load CSV\n",
    "    df = pd.read_csv(csv_file_path)\n",
    "\n",
    "    # Combine date and time\n",
    "    datetime_str = df['Date'].astype(str) + ' ' + df['Time'].astype(str)\n",
    "    df['Datetime'] = pd.to_datetime(datetime_str, dayfirst=True, errors='coerce')\n",
    "    df = df.dropna(subset=['Datetime'])\n",
    "\n",
    "    # Filter time range\n",
    "    start_time = pd.to_datetime(\"2025-04-19 23:20:28\")\n",
    "    stop_time = pd.to_datetime(\"2025-04-19 23:21:9\")\n",
    "    df = df[(df['Datetime'] >= start_time) & (df['Datetime'] <= stop_time)]\n",
    "\n",
    "    # Columns of interest\n",
    "    columns = [\n",
    "        'Core Usage (avg) [%]',\n",
    "        'Total CPU Usage [%]',\n",
    "        'CPU Package Power [W]',\n",
    "        'Core Powers (avg) [W]',\n",
    "        'CPU (Tctl/Tdie) [°C]'\n",
    "    ]\n",
    "\n",
    "    # Ensure columns exist\n",
    "    available_columns = [col for col in columns if col in df.columns]\n",
    "\n",
    "    # Convert to numeric safely\n",
    "    for col in available_columns:\n",
    "        df[col] = pd.to_numeric(df[col], errors='coerce')\n",
    "\n",
    "    # Compute the mean\n",
    "    avg_values = df[available_columns].mean().to_frame(name='Average Value')\n",
    "    avg_values.index.name = 'Metric'\n",
    "\n",
    "    return avg_values\n",
    "\n",
    "\n",
    "\n",
    "avg_df = read_and_average_metrics(\"C:/Users/ammar/Desktop/lll.csv\")\n",
    "print(avg_df)\n"
   ]
  }
 ],
 "metadata": {
  "kernelspec": {
   "display_name": "cnn-env",
   "language": "python",
   "name": "python3"
  },
  "language_info": {
   "codemirror_mode": {
    "name": "ipython",
    "version": 3
   },
   "file_extension": ".py",
   "mimetype": "text/x-python",
   "name": "python",
   "nbconvert_exporter": "python",
   "pygments_lexer": "ipython3",
   "version": "3.11.11"
  }
 },
 "nbformat": 4,
 "nbformat_minor": 5
}
